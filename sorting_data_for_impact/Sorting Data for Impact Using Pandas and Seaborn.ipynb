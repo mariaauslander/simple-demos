{
 "cells": [
  {
   "cell_type": "markdown",
   "metadata": {},
   "source": [
    "### Sorting Data for Impact Using Pandas and Seaborn\n",
    "\n",
    "This notebook simply shows how to aggregate count data and display it using the pandas and seaborn libraries in Python.\n",
    "\n",
    "Let's start by importing libraries:"
   ]
  },
  {
   "cell_type": "code",
   "execution_count": null,
   "metadata": {},
   "outputs": [],
   "source": [
    "import pandas as pd\n",
    "import seaborn as sns"
   ]
  },
  {
   "cell_type": "markdown",
   "metadata": {},
   "source": [
    "Now, we'll read sample sales data from a csv file contained in the current directory. This file is a Kaggle dataset from the following link: https://www.kaggle.com/kyanyoga/sample-sales-data. Typically, it would pertinent to do a thorough dataset review, but the purpose of this notebook is to demonstrate how to aggregate and sort data using pandas as well as display the data using visuals from seaborn."
   ]
  },
  {
   "cell_type": "code",
   "execution_count": null,
   "metadata": {},
   "outputs": [],
   "source": [
    "df=pd.read_csv('sales_data_sample.csv', encoding= 'unicode_escape') "
   ]
  },
  {
   "cell_type": "markdown",
   "metadata": {},
   "source": [
    "Let's take an initial look at the number of orders by country. We'll start by aggregating the data by country using ```.groupby()``` from pandas followed by ```.count()``` from pandas, we'll also reset the index using ```.reset_index()```."
   ]
  },
  {
   "cell_type": "code",
   "execution_count": null,
   "metadata": {},
   "outputs": [],
   "source": [
    "aggregated_df=df[['COUNTRY','ORDERNUMBER']].groupby(['COUNTRY']).count().reset_index()\n",
    "aggregated_df=aggregated_df.rename(columns={'ORDERNUMBER':'ORDER COUNT'})"
   ]
  },
  {
   "cell_type": "markdown",
   "metadata": {},
   "source": [
    "Next, we'll create a simple bar chart that displays the aggregated data. We'll use seaborn's bar plot indicated by ```sns.barplot()```. We'll set the x-axis labels using ```.set_xticklabels()``` and set the title using ```.set_title()```."
   ]
  },
  {
   "cell_type": "code",
   "execution_count": null,
   "metadata": {},
   "outputs": [],
   "source": [
    "ax = sns.barplot(x=\"COUNTRY\", y=\"ORDER COUNT\", data=aggregated_df,palette='mako')\n",
    "ax.set_xticklabels(ax.get_xticklabels(),rotation=75)\n",
    "ax.set_title(\"Number of Orders by Country\")"
   ]
  },
  {
   "cell_type": "markdown",
   "metadata": {},
   "source": [
    "This looks disorganized, it's not simple to see a clear trend of which countries have the most orders. Of course, some countries, like the USA, seem to have more orders relative to other countries (i.e. Belgium).\n",
    "\n",
    "Let's sort the data by the number of orders per country using ```.sort_values()``` in pandas"
   ]
  },
  {
   "cell_type": "code",
   "execution_count": null,
   "metadata": {},
   "outputs": [],
   "source": [
    "sorted_df=aggregated_df.sort_values(\n",
    "    by='ORDER COUNT',ascending=False)"
   ]
  },
  {
   "cell_type": "markdown",
   "metadata": {},
   "source": [
    "Now, we'll display the data using a bar chart."
   ]
  },
  {
   "cell_type": "code",
   "execution_count": null,
   "metadata": {},
   "outputs": [],
   "source": [
    "ax = sns.barplot(x=\"COUNTRY\", y=\"ORDER COUNT\", data=sorted_df,palette='mako')\n",
    "ax.set_xticklabels(ax.get_xticklabels(),rotation=75)\n",
    "ax.set_title(\"Number of Orders by Country\")"
   ]
  },
  {
   "cell_type": "markdown",
   "metadata": {},
   "source": [
    "This looks better, we get a clear idea of how the number of orders per country compares to each other.\n",
    "\n",
    "Lastly, we'll show the plot as a horizontal plot which some may find makes the country names easier to read. To do this, we simply reverse the x and y options in sns.barplot()."
   ]
  },
  {
   "cell_type": "code",
   "execution_count": null,
   "metadata": {},
   "outputs": [],
   "source": [
    "ax = sns.barplot(x=\"ORDER COUNT\", y=\"COUNTRY\", data=sorted_df,palette='mako')\n",
    "ax.set_title(\"Number of Orders by Country\")"
   ]
  },
  {
   "cell_type": "code",
   "execution_count": null,
   "metadata": {},
   "outputs": [],
   "source": []
  }
 ],
 "metadata": {
  "kernelspec": {
   "display_name": "Python 3",
   "language": "python",
   "name": "python3"
  },
  "language_info": {
   "codemirror_mode": {
    "name": "ipython",
    "version": 3
   },
   "file_extension": ".py",
   "mimetype": "text/x-python",
   "name": "python",
   "nbconvert_exporter": "python",
   "pygments_lexer": "ipython3",
   "version": "3.7.4"
  }
 },
 "nbformat": 4,
 "nbformat_minor": 2
}
